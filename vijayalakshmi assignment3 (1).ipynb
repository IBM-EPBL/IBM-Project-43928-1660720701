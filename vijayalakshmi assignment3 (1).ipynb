{
 "cells": [
  {
   "cell_type": "markdown",
   "id": "eed9c81f",
   "metadata": {},
   "source": [
    "##  Importing the libraries"
   ]
  },
  {
   "cell_type": "code",
   "execution_count": 1,
   "id": "5d3ace3f",
   "metadata": {},
   "outputs": [],
   "source": [
    "from tensorflow.keras.models import Sequential\n",
    "from tensorflow.keras.layers import Dense"
   ]
  },
  {
   "cell_type": "code",
   "execution_count": 2,
   "id": "b47e7339",
   "metadata": {},
   "outputs": [],
   "source": [
    "from tensorflow.keras.layers import Convolution2D\n",
    "from tensorflow.keras.layers import MaxPooling2D\n",
    "from tensorflow.keras.layers import Flatten"
   ]
  },
  {
   "cell_type": "code",
   "execution_count": 3,
   "id": "212a8cf6",
   "metadata": {},
   "outputs": [],
   "source": [
    "from tensorflow.keras.preprocessing.image import ImageDataGenerator"
   ]
  },
  {
   "cell_type": "code",
   "execution_count": 4,
   "id": "d476110b",
   "metadata": {},
   "outputs": [],
   "source": [
    "train_datagen = ImageDataGenerator(rescale=1./255,shear_range=0.2,zoom_range=0.2,horizontal_flip=True,vertical_flip=True)"
   ]
  },
  {
   "cell_type": "code",
   "execution_count": 5,
   "id": "7d70e66c",
   "metadata": {},
   "outputs": [],
   "source": [
    "test_datagen = ImageDataGenerator(rescale=1./255)"
   ]
  },
  {
   "cell_type": "markdown",
   "id": "6cd0db2d",
   "metadata": {},
   "source": [
    "## Image Augmentation"
   ]
  },
  {
   "cell_type": "code",
   "execution_count": 6,
   "id": "1b39f0e9",
   "metadata": {},
   "outputs": [
    {
     "name": "stdout",
     "output_type": "stream",
     "text": [
      "Found 4317 images belonging to 5 classes.\n"
     ]
    }
   ],
   "source": [
    "x_train = train_datagen.flow_from_directory(r\"C:\\Users\\ELCOT\\Downloads\\dataset\\flowers\\training\",target_size=(64,64),batch_size=32,class_mode=\"categorical\")"
   ]
  },
  {
   "cell_type": "code",
   "execution_count": 7,
   "id": "531ae3fd",
   "metadata": {},
   "outputs": [
    {
     "name": "stdout",
     "output_type": "stream",
     "text": [
      "Found 2797 images belonging to 5 classes.\n"
     ]
    }
   ],
   "source": [
    "x_test = test_datagen.flow_from_directory(r\"C:\\Users\\ELCOT\\Downloads\\dataset\\flowers\\training\",target_size=(64,64),batch_size=32,class_mode=\"categorical\")"
   ]
  },
  {
   "cell_type": "code",
   "execution_count": 8,
   "id": "888281c3",
   "metadata": {},
   "outputs": [
    {
     "data": {
      "text/plain": [
       "{'daisy': 0, 'dandelion': 1, 'rose': 2, 'sunflower': 3, 'tulip': 4}"
      ]
     },
     "execution_count": 8,
     "metadata": {},
     "output_type": "execute_result"
    }
   ],
   "source": [
    "x_train.class_indices"
   ]
  },
  {
   "cell_type": "markdown",
   "id": "4a809bc0",
   "metadata": {},
   "source": [
    "## Add Layers"
   ]
  },
  {
   "cell_type": "markdown",
   "id": "f1312b74",
   "metadata": {},
   "source": [
    "## Convolution,MaxPooling,Flatten,Dense-Hidden Layers,Output"
   ]
  },
  {
   "cell_type": "code",
   "execution_count": 9,
   "id": "a57b524b",
   "metadata": {},
   "outputs": [],
   "source": [
    "model = Sequential()"
   ]
  },
  {
   "cell_type": "code",
   "execution_count": 10,
   "id": "0511aacf",
   "metadata": {},
   "outputs": [],
   "source": [
    "model.add(Convolution2D(32,(3,3),input_shape=(64,64,3),activation='relu'))"
   ]
  },
  {
   "cell_type": "code",
   "execution_count": 11,
   "id": "c7ea9be4",
   "metadata": {},
   "outputs": [],
   "source": [
    "model.add(MaxPooling2D(pool_size=(2,2)))"
   ]
  },
  {
   "cell_type": "code",
   "execution_count": 12,
   "id": "7b2101c2",
   "metadata": {},
   "outputs": [],
   "source": [
    "model.add(Flatten())"
   ]
  },
  {
   "cell_type": "code",
   "execution_count": 13,
   "id": "21580484",
   "metadata": {},
   "outputs": [],
   "source": [
    "model.add(Dense(units=300,kernel_initializer=\"random_uniform\",activation=\"relu\"))"
   ]
  },
  {
   "cell_type": "code",
   "execution_count": 14,
   "id": "b53e3e87",
   "metadata": {},
   "outputs": [],
   "source": [
    "model.add(Dense(units=200,kernel_initializer=\"random_uniform\",activation=\"relu\"))"
   ]
  },
  {
   "cell_type": "code",
   "execution_count": 15,
   "id": "4edfbf96",
   "metadata": {},
   "outputs": [],
   "source": [
    "model.add(Dense(units=5,kernel_initializer=\"random_uniform\",activation=\"softmax\"))"
   ]
  },
  {
   "cell_type": "markdown",
   "id": "479e9563",
   "metadata": {},
   "source": [
    "## Compile The Model"
   ]
  },
  {
   "cell_type": "code",
   "execution_count": 16,
   "id": "bb78976d",
   "metadata": {},
   "outputs": [],
   "source": [
    "model.compile(loss=\"categorical_crossentropy\",optimizer=\"adam\",metrics=[\"accuracy\"])"
   ]
  },
  {
   "cell_type": "markdown",
   "id": "baf53693",
   "metadata": {},
   "source": [
    "## Fit The Model"
   ]
  },
  {
   "cell_type": "code",
   "execution_count": null,
   "id": "e966ba79",
   "metadata": {},
   "outputs": [
    {
     "name": "stderr",
     "output_type": "stream",
     "text": [
      "C:\\Users\\DEVIL SK\\AppData\\Local\\Temp\\ipykernel_11224\\635262053.py:1: UserWarning: `Model.fit_generator` is deprecated and will be removed in a future version. Please use `Model.fit`, which supports generators.\n",
      "  model.fit_generator(x_train,steps_per_epoch=135,epochs=20,validation_data=x_test,validation_steps=88)\n"
     ]
    },
    {
     "name": "stdout",
     "output_type": "stream",
     "text": [
      "Epoch 1/20\n",
      "135/135 [==============================] - 396s 2s/step - loss: 1.2842 - accuracy: 0.4422 - val_loss: 1.3774 - val_accuracy: 0.4348\n",
      "Epoch 2/20\n",
      "135/135 [==============================] - 227s 2s/step - loss: 1.0974 - accuracy: 0.5599 - val_loss: 1.0064 - val_accuracy: 0.5956\n",
      "Epoch 3/20\n",
      "135/135 [==============================] - 239s 2s/step - loss: 1.0074 - accuracy: 0.5907 - val_loss: 0.9999 - val_accuracy: 0.6128\n",
      "Epoch 4/20\n",
      "135/135 [==============================] - 249s 2s/step - loss: 0.9343 - accuracy: 0.6370 - val_loss: 0.9167 - val_accuracy: 0.6464\n",
      "Epoch 5/20\n",
      "135/135 [==============================] - 291s 2s/step - loss: 0.9089 - accuracy: 0.6403 - val_loss: 0.8479 - val_accuracy: 0.6668\n",
      "Epoch 6/20\n",
      "135/135 [==============================] - 235s 2s/step - loss: 0.8706 - accuracy: 0.6602 - val_loss: 0.9297 - val_accuracy: 0.6228\n",
      "Epoch 7/20\n",
      "135/135 [==============================] - 249s 2s/step - loss: 0.8269 - accuracy: 0.6820 - val_loss: 0.8391 - val_accuracy: 0.6839\n",
      "Epoch 8/20\n",
      "135/135 [==============================] - 397s 3s/step - loss: 0.7975 - accuracy: 0.6905 - val_loss: 0.8294 - val_accuracy: 0.6897\n",
      "Epoch 9/20\n",
      "135/135 [==============================] - 237s 2s/step - loss: 0.7798 - accuracy: 0.7054 - val_loss: 0.8151 - val_accuracy: 0.6950\n",
      "Epoch 10/20\n",
      "135/135 [==============================] - 660s 5s/step - loss: 0.7477 - accuracy: 0.7118 - val_loss: 0.6260 - val_accuracy: 0.7655\n",
      "Epoch 11/20\n",
      "135/135 [==============================] - 303s 2s/step - loss: 0.7125 - accuracy: 0.7211 - val_loss: 0.6681 - val_accuracy: 0.7497\n",
      "Epoch 12/20\n",
      "135/135 [==============================] - 249s 2s/step - loss: 0.6941 - accuracy: 0.7343 - val_loss: 0.6511 - val_accuracy: 0.7537\n",
      "Epoch 13/20\n",
      "135/135 [==============================] - 187s 1s/step - loss: 0.6678 - accuracy: 0.7477 - val_loss: 0.6506 - val_accuracy: 0.7565\n",
      "Epoch 14/20\n",
      "135/135 [==============================] - 230s 2s/step - loss: 0.6488 - accuracy: 0.7519 - val_loss: 0.5682 - val_accuracy: 0.7980\n",
      "Epoch 15/20\n",
      "135/135 [==============================] - 220s 2s/step - loss: 0.6279 - accuracy: 0.7584 - val_loss: 0.6857 - val_accuracy: 0.7401\n",
      "Epoch 16/20\n",
      "135/135 [==============================] - 275s 2s/step - loss: 0.6231 - accuracy: 0.7623 - val_loss: 0.6055 - val_accuracy: 0.7841\n",
      "Epoch 17/20\n",
      "135/135 [==============================] - 164s 1s/step - loss: 0.5888 - accuracy: 0.7755 - val_loss: 0.7220 - val_accuracy: 0.7361\n",
      "Epoch 18/20\n",
      "135/135 [==============================] - 152s 1s/step - loss: 0.5651 - accuracy: 0.7887 - val_loss: 0.5849 - val_accuracy: 0.7866\n",
      "Epoch 19/20\n",
      "135/135 [==============================] - 165s 1s/step - loss: 0.5522 - accuracy: 0.7955 - val_loss: 0.4648 - val_accuracy: 0.8380\n",
      "Epoch 20/20\n",
      " 29/135 [=====>........................] - ETA: 1:37 - loss: 0.4586 - accuracy: 0.8287"
     ]
    }
   ],
   "source": [
    "model.fit_generator(x_train,steps_per_epoch=135,epochs=20,validation_data=x_test,validation_steps=88)"
   ]
  },
  {
   "cell_type": "code",
   "execution_count": null,
   "id": "7f8586e9",
   "metadata": {},
   "outputs": [],
   "source": []
  }
 ],
 "metadata": {
  "kernelspec": {
   "display_name": "Python 3 (ipykernel)",
   "language": "python",
   "name": "python3"
  },
  "language_info": {
   "codemirror_mode": {
    "name": "ipython",
    "version": 3
   },
   "file_extension": ".py",
   "mimetype": "text/x-python",
   "name": "python",
   "nbconvert_exporter": "python",
   "pygments_lexer": "ipython3",
   "version": "3.9.12"
  }
 },
 "nbformat": 4,
 "nbformat_minor": 5
}
